{
 "cells": [
  {
   "cell_type": "markdown",
   "metadata": {},
   "source": [
    "# Building the Question Answering System"
   ]
  },
  {
   "cell_type": "code",
   "execution_count": 1,
   "metadata": {},
   "outputs": [
    {
     "name": "stderr",
     "output_type": "stream",
     "text": [
      "Using TensorFlow backend.\n"
     ]
    }
   ],
   "source": [
    "import re\n",
    "import numpy as np\n",
    "import pandas as pd\n",
    "import sklearn\n",
    "from nltk.tokenize import word_tokenize\n",
    "import keras"
   ]
  },
  {
   "cell_type": "markdown",
   "metadata": {},
   "source": [
    "# Preprocessing"
   ]
  },
  {
   "cell_type": "markdown",
   "metadata": {},
   "source": [
    "#### Hyperparameter Notes\n",
    "-Word vector size (50,100,200,300)\n",
    "-how to deal with tokens with no word vectorization (REMOVE, generate random array, spell checker?)"
   ]
  },
  {
   "cell_type": "code",
   "execution_count": 2,
   "metadata": {
    "collapsed": true
   },
   "outputs": [],
   "source": [
    "train_df=pd.read_json(\"C:/Users/Lukas Buteliauskas/Desktop/training_data.json\").reset_index(drop=True)\n",
    "dev_df=pd.read_json(\"C:/Users/Lukas Buteliauskas/Desktop/validation_data.json\").reset_index(drop=True)"
   ]
  },
  {
   "cell_type": "markdown",
   "metadata": {},
   "source": [
    "## Word Vectorization\n",
    "To be able to use words, phrases, questions or other natural language constructs in our model we require a to provide our neural network a numerical representation of our words (as these are the elemental NLP 'particles'). The simplest implementation would be to use 'one hot encoding' and define each word as a vector the size of our dictionary (the number of unique words found in our collection of documents, our corpus). However, this approach will most likely be insufficient for the purposes of a question answering system. word2vec and GloVe are 2 popular choices sophisticated options for word embeddings that also capture word similarities. I will not go into the details of either architecture other than to say that we will not be re-training the word vectors due to the insufficient size of the dataset, and we will begin with the GloVe word embeddings due to it's superior performance in most 'downstream' modelling tasks. Having said that, given the simplicity of swapping word vector representations we will also test out performance with word2vec (providing we can do so in a time-efficient manner).\n",
    "\n",
    "Info and download links for GloVe can be found at: https://nlp.stanford.edu/projects/glove/"
   ]
  },
  {
   "cell_type": "markdown",
   "metadata": {},
   "source": [
    "### 'Word Vector' Custom Functions"
   ]
  },
  {
   "cell_type": "code",
   "execution_count": 3,
   "metadata": {
    "collapsed": true
   },
   "outputs": [],
   "source": [
    "def get_word_vector_dict(url_or_path):\n",
    "    \"\"\"Takes a URL or a local path and returns a dictionary of GloVe word vectors where the key is the word and the value is the \n",
    "    word vector with the dimension specified in the input file.\"\"\"\n",
    "    \n",
    "    with open(url_or_path, encoding=\"utf8\") as glove_text:\n",
    "        word_lines=glove_text.readlines()\n",
    "    word_embeddings=[line.split(\" \") for line in word_lines]\n",
    "    word_vector_dict={element[0]:list(map(float, element[1:])) for element in word_embeddings}\n",
    "    \n",
    "    return word_vector_dict\n",
    "\n",
    "\n",
    "def get_word_vector_df(url_path_or_dict):\n",
    "    \"\"\"Takes a URL or path like the previous function, or can take a word vector dictionary and returns a word vector dataframe.\n",
    "    Rows of the dataframe are the word vectors, columns are the dimensions of the word vector, indices are the words.\"\"\"\n",
    "    \n",
    "    if type(url_path_or_dict) is str:\n",
    "        with open(url_path_or_dict, encoding=\"utf8\") as glove_text:\n",
    "            word_lines=glove_text.readlines()\n",
    "        word_embeddings=[line.split(\" \") for line in word_lines]\n",
    "        word_vector_dict={element[0]:list(map(float, element[1:])) for element in word_embeddings}\n",
    "        word_vector_df=pd.DataFrame(word_vector_dict).transpose()\n",
    "    \n",
    "    else:\n",
    "        word_vector_df=pd.DataFrame(url_path_or_dict).transpose()\n",
    "    \n",
    "    return word_vector_df"
   ]
  },
  {
   "cell_type": "markdown",
   "metadata": {},
   "source": [
    "### Setting up the Word Vectors\n",
    "As mentioned above with regards to what model we use for the word vectors, it's important to note that the dimention of the word vectors is a hyperparameter of the Neural Networks to come, so to keep our options open we imported a few different word vectors representations and the custom functions defined above make this a 'one line of code' affair (dictionary or dataframe).\n"
   ]
  },
  {
   "cell_type": "code",
   "execution_count": 4,
   "metadata": {
    "collapsed": true
   },
   "outputs": [],
   "source": [
    "word_vector_50_dict=get_word_vector_dict(\"C:/Users/Lukas Buteliauskas/Desktop/glove.6B.50d.txt\")\n",
    "word_vector_50_df=get_word_vector_df(word_vector_50_dict)\n",
    "vocab=np.array(word_vector_50_dict.keys()) #400k words as per the documentation.\n",
    "\n",
    "word_vector_100_dict=get_word_vector_dict(\"C:/Users/Lukas Buteliauskas/Desktop/glove.6B.100d.txt\")\n",
    "word_vector_100_df=get_word_vector_df(word_vector_100_dict)"
   ]
  },
  {
   "cell_type": "code",
   "execution_count": 5,
   "metadata": {},
   "outputs": [
    {
     "data": {
      "text/plain": [
       "'word_vector_200_dict=get_word_vector_dict(\"C:/Users/Lukas Buteliauskas/Desktop/glove.6B.200d.txt\")\\nword_vector_200_df=get_word_vector_df(word_vector_200_dict)\\n\\nword_vector_300_dict=get_word_vector_dict(\"C:/Users/Lukas Buteliauskas/Desktop/glove.6B.300d.txt\")\\nword_vector_300_df=get_word_vector_df(word_vector_300_dict)'"
      ]
     },
     "execution_count": 5,
     "metadata": {},
     "output_type": "execute_result"
    }
   ],
   "source": [
    "\"\"\"word_vector_200_dict=get_word_vector_dict(\"C:/Users/Lukas Buteliauskas/Desktop/glove.6B.200d.txt\")\n",
    "word_vector_200_df=get_word_vector_df(word_vector_200_dict)\n",
    "\n",
    "word_vector_300_dict=get_word_vector_dict(\"C:/Users/Lukas Buteliauskas/Desktop/glove.6B.300d.txt\")\n",
    "word_vector_300_df=get_word_vector_df(word_vector_300_dict)\"\"\""
   ]
  },
  {
   "cell_type": "markdown",
   "metadata": {},
   "source": [
    "## Final Pre-Processing"
   ]
  },
  {
   "cell_type": "markdown",
   "metadata": {},
   "source": [
    "### Tokenization, Embedding Custom Functions"
   ]
  },
  {
   "cell_type": "code",
   "execution_count": 6,
   "metadata": {},
   "outputs": [],
   "source": [
    "def get_unique_tokens(df):\n",
    "    \"\"\"Given a dataframe containing contexts, questions and answers, the function returns a list of unique tokens.\"\"\"\n",
    "    pieces_of_text=list(df[\"context\"].unique()) + list(df[\"title\"].unique()) + list(df[\"question\"].unique()) \n",
    "    pieces_of_text+=list(df[\"answer_text\"].unique())\n",
    "\n",
    "    non_unique_tokens=[]\n",
    "    for text in pieces_of_text:\n",
    "        temp_tokens=word_tokenize(text)\n",
    "        non_unique_tokens.append(temp_tokens)\n",
    "\n",
    "    unique_tokens=set()\n",
    "    for token in non_unique_tokens:\n",
    "        unique_tokens.update(set(token))\n",
    "    \n",
    "    return [token.replace(\"``\", '\"').replace(\"''\", '\"').lower() for token in list(unique_tokens)]\n",
    "\n",
    "\n",
    "def get_triplet(df, row_idx, cols=[\"context\", \"question\", \"answer_text\"]):\n",
    "    \"\"\"Takes a dataframe and row index, and returns a (context, question, answer) triplet as a tuple.\"\"\"\n",
    "    triplet_list=train_df.loc[row_idx, cols].values\n",
    "    return (triplet_list[0], triplet_list[1], triplet_list[2])\n",
    "\n",
    "\n",
    "def tokenize(string):\n",
    "    \"\"\"Takes a string (either context, question or answer) and returns a list of tokens.\"\"\"\n",
    "    tokens=[token.replace(\"``\", '\"').replace(\"''\", '\"').lower() for token in word_tokenize(string)]\n",
    "    \n",
    "    split_tokens=[]\n",
    "    for token in tokens:\n",
    "        split_tokens.extend(re.split('(\\W+)', token))\n",
    "    return [token for token in split_tokens if token!=\" \" and token!=\"\"]\n",
    "\n",
    "\n",
    "def string_to_embedding(string, word_vector_dict=word_vector_50_dict, context=False):\n",
    "    \"\"\"Takes a context, question or answer and returns a list of word tokens in their vectorized form.\n",
    "    If context, return a list of sequences. Updated to accept tokenizations for faster training.\"\"\"\n",
    "    tokens=[]\n",
    "    embedding=[]\n",
    "    if isinstance(string, str) is True:\n",
    "        tokens=np.array(tokenize(string))\n",
    "    else:\n",
    "        tokens=np.array(string)\n",
    "    \n",
    "    if context is False:\n",
    "        for token in tokens:\n",
    "            if token in word_vector_dict.keys():\n",
    "                embedding.extend(word_vector_dict[token])\n",
    "            else:\n",
    "                # We are vectorizing words with no embedding with the 'unk' token vectorization (already in GloVe)\n",
    "                embedding.extend(word_vector_dict[\"unk\"])\n",
    "    else:\n",
    "        \"\"\"Seperate out the sentences (on the '.')\"\"\"\n",
    "        dot_indeces=np.nonzero(tokens==\".\")[0]\n",
    "        prev_dot=0\n",
    "        sentences=[]\n",
    "        for dot in dot_indeces:\n",
    "            sentences.append(tokens[prev_dot:dot+1])\n",
    "            prev_dot=dot+1\n",
    "    \n",
    "        \"\"\" Embed the sentences\"\"\"     \n",
    "        for sentence in sentences:\n",
    "            sentence_embedding=[]\n",
    "            \n",
    "            for token in sentence:\n",
    "                if token in word_vector_dict.keys():\n",
    "                    sentence_embedding.extend(word_vector_dict[token])\n",
    "                else:\n",
    "                    sentence_embedding.extend(word_vector_dict[\"unk\"])\n",
    "        \n",
    "            embedding.append(sentence_embedding)\n",
    "            sentence_embedding=[]\n",
    "    \n",
    "    return np.array(embedding)"
   ]
  },
  {
   "cell_type": "markdown",
   "metadata": {},
   "source": [
    "The nltk tokenizer generated around 110,00 unique tokens from our contexts, questions and answers in our dataset. ~31,000 of those tokens did not have pre-trained word vectorizations in the GloVe model. Some of these tokens were numbers, expressed as strings in an unfamiliar format, some of these tokens were misspelled words, some of these tokens were works in other languages, or symbols from other alphibets and so on. \n",
    "The ideal case would be to assign to each token in our corpus a 'meaningful' word vectorization, however given the time constraint on this project, we will try to provide meaningful word vectorizations to as many of these tokens as possible through pre-processing steps following the initial word tokenization (using the nltk tokenizer)."
   ]
  },
  {
   "cell_type": "markdown",
   "metadata": {},
   "source": [
    "### Tokenizing, Embedding and Padding Contexts, Questions and Answers"
   ]
  },
  {
   "cell_type": "code",
   "execution_count": 7,
   "metadata": {},
   "outputs": [
    {
     "name": "stdout",
     "output_type": "stream",
     "text": [
      "Max number of tokens in a context: 854 \t Timesteps= 854  Outputs of interest=# of sent\n",
      "Done contexts\n",
      "Done questions\n",
      "Done answers\n"
     ]
    },
    {
     "data": {
      "text/plain": [
       "'question_sample=embedded_questions[0:3]\\npadded_questions=np.array(pad_sequences(question_sample, max_question_len*50, padding=\"post\", dtype=\"float64\")).reshape(3,-1,50)'"
      ]
     },
     "execution_count": 7,
     "metadata": {},
     "output_type": "execute_result"
    }
   ],
   "source": [
    "contexts=train_df.context.values\n",
    "contexts_tokenized=np.array([tokenize(context) for context in train_df.context.values])\n",
    "max_context_len=np.max([len(context) for context in contexts_tokenized])\n",
    "print(\"Max number of tokens in a context:\", max_context_len, \"\\t Timesteps=\", max_context_len, \" Outputs of interest=# of sent\")\n",
    "print(\"Done contexts\")\n",
    "\n",
    "questions=train_df.question.values\n",
    "questions_tokenized=np.array([tokenize(question) for question in questions])\n",
    "embedded_questions=np.array([string_to_embedding(tokenized_question) for tokenized_question in questions_tokenized])\n",
    "max_question_len=np.max([len(question) for question in questions_tokenized])\n",
    "print(\"Done questions\")\n",
    "\n",
    "answers=train_df.answer_text.values\n",
    "answers_tokenized=np.array([tokenize(answer) for answer in answers])\n",
    "embedded_answers=np.array([string_to_embedding(tokenized_answer) for tokenized_answer in answers_tokenized])\n",
    "max_answer_len=np.max([len(answer) for answer in answers_tokenized])\n",
    "print(\"Done answers\")\n",
    "\n",
    "\"\"\"question_sample=embedded_questions[0:3]\n",
    "padded_questions=np.array(pad_sequences(question_sample, max_question_len*50, padding=\"post\", dtype=\"float64\")).reshape(3,-1,50)\"\"\""
   ]
  },
  {
   "cell_type": "markdown",
   "metadata": {},
   "source": [
    "## Building the Dynamic Memory Network"
   ]
  },
  {
   "cell_type": "code",
   "execution_count": 8,
   "metadata": {},
   "outputs": [],
   "source": [
    "from keras.models import Model\n",
    "from keras.layers import Input, GRU, Masking\n",
    "from keras.preprocessing.sequence import pad_sequences"
   ]
  },
  {
   "cell_type": "code",
   "execution_count": 9,
   "metadata": {},
   "outputs": [
    {
     "data": {
      "text/plain": [
       "'DMN_model = Model(inputs=[input_module, question_module], outputs=[answer_module])'"
      ]
     },
     "execution_count": 9,
     "metadata": {},
     "output_type": "execute_result"
    }
   ],
   "source": [
    "\"\"\"Question Module\"\"\"\n",
    "# question module input shape= [rows, timesteps, columns] or [observations (question-answer-context), # of words in q, 50]\n",
    "\n",
    "question_sample=embedded_questions[0:3]\n",
    "padded_questions=np.array(pad_sequences(question_sample, max_question_len*50, padding=\"post\", dtype=\"float64\")).reshape(3,-1,50)\n",
    "\n",
    "question_input=Input(shape=(max_question_len,50))\n",
    "question_mask=Masking(mask_value=0.0)(question_input)\n",
    "question_output=GRU(units=10)(question_mask)\n",
    "question_model=Model(inputs=question_input, outputs=question_output)\n",
    "\n",
    "outputs=question_model.predict(padded_questions)\n",
    "\"\"\"DMN_model = Model(inputs=[input_module, question_module], outputs=[answer_module])\"\"\""
   ]
  },
  {
   "cell_type": "code",
   "execution_count": 10,
   "metadata": {},
   "outputs": [
    {
     "name": "stdout",
     "output_type": "stream",
     "text": [
      "Sentence shape: (4,)\n",
      "Lengths of embedded sentences: [1700, 2150, 1300, 2650]\n"
     ]
    }
   ],
   "source": [
    "###### \"\"\"We need to take a context and return facts, for each sentence\"\"\"\n",
    "context=contexts[0]\n",
    "sentence_embedding=string_to_embedding(context, context=True)\n",
    "print(\"Sentence shape:\", sentence_embedding.shape)\n",
    "print(\"Lengths of embedded sentences:\", [len(embedding) for embedding in sentence_embedding])\n",
    "\n",
    "\n",
    "context_input=Input(shape=(7,50))\n",
    "facts_output=GRU(units=10)(context_input)\n",
    "input_model=Model(inputs=context_input, outputs=facts_output)"
   ]
  },
  {
   "cell_type": "code",
   "execution_count": 11,
   "metadata": {},
   "outputs": [
    {
     "data": {
      "text/plain": [
       "'\\nunique_tokens=get_unique_tokens(train_df)\\nno_embeddings=[token for token in unique_tokens if token not in word_vector_50_dict.keys()]\\nsplit_unique_tokens=split_keep_sep(unique_tokens, \"-\")\\nsplit_unique_tokens2=split_keep_sep(split_unique_tokens, \"–\")\\nsplit_unique_tokens3=split_keep_sep(split_unique_tokens2, \"—\")\\nsplit_unique_tokens4=split_keep_sep(split_unique_tokens3, \"\\'\")\\nsplit_unique_tokens5=split_keep_sep(split_unique_tokens4, \"£\")\\nsplit_unique_tokens6=split_keep_sep(split_unique_tokens5, \"/\")\\nsplit_unique_tokens7=split_keep_sep(split_unique_tokens6, \":\")\\n\\nprint(\"Num of initial tokens:\", len(unique_tokens), \"\\nNum of tokens after \\'-\\' split:\", len(split_unique_tokens))\\nprint(\"Num of tokens after 2nd split\", len(split_unique_tokens2),\"\\nNum of tokens after 3rd split\", len(split_unique_tokens3))\\nprint(\"Num of tokens after 4th split\", len(split_unique_tokens4), \"\\nNum of tokens after 5th split\", len(split_unique_tokens5))\\nprint(\"Num of tokens after 6th split\", len(split_unique_tokens6), \"\\nNum of tokens after 7th split\", len(split_unique_tokens7),\"\\n\")\\n\\nno_embeddings_2=[token for token in split_unique_tokens if token not in word_vector_50_dict.keys()]\\nno_embeddings_3=[token for token in split_unique_tokens2 if token not in word_vector_50_dict.keys()]\\nno_embeddings_4=[token for token in split_unique_tokens3 if token not in word_vector_50_dict.keys()]\\nno_embeddings_5=[token for token in split_unique_tokens4 if token not in word_vector_50_dict.keys()]\\nno_embeddings_6=[token for token in split_unique_tokens5 if token not in word_vector_50_dict.keys()]\\nno_embeddings_7=[token for token in split_unique_tokens6 if token not in word_vector_50_dict.keys()]\\nno_embeddings_8=[token for token in split_unique_tokens7 if token not in word_vector_50_dict.keys()]\\n\\nprint(\"Number of tokens with no embedding in GloVe (with the current tokenization):\")\\nprint(\"with \\'-\\' with words:\",len(no_embeddings),\"\\nwith \\'-\\' seperate:\", len(no_embeddings_2),)\\nprint(\"with 2 - with words:\", len(no_embeddings_3),\"\\nwith all - with words:\", len(no_embeddings_4))\\nprint(\"with all - and \\' with words:\", len(no_embeddings_5) ,\"\\nwith all -, \\', £ with words:\", len(no_embeddings_6))\\nprint(\"with all -, \\', £, / with words:\", len(no_embeddings_7),\"\\nwith all -, \\', £, /, : with words:\", len(no_embeddings_8),\"\\n\")\\n\\nprint(no_embeddings_8[0:100])'"
      ]
     },
     "execution_count": 11,
     "metadata": {},
     "output_type": "execute_result"
    }
   ],
   "source": [
    "\"\"\"def split_keep_sep(tokens, sep, only_unique=True):\n",
    "    Takes a string or a list of tokens, and splits on 'sep' while keeping sep. Returns a set of unique tokens, or a list\n",
    "    of tokens after splitting.\n",
    "    DO NOT PASS IN A STRING OR IT WILL RETURN A BUNCH OF CHARACTERS\n",
    "    split_tokens=[]\n",
    "    for token in tokens:\n",
    "        if only_unique==True:\n",
    "            for sub_token in re.split(\"(\"+ sep + \")\", token):\n",
    "                if sub_token not in split_tokens:\n",
    "                    split_tokens.append(sub_token)\n",
    "        else: # if we want just a list of all the tokens after seperation\n",
    "            split_tokens.extend(re.split(\"(\"+ sep + \")\", token))\n",
    "                \n",
    "    return [token for token in split_tokens if token!=\"\"]\"\"\"\n",
    "\n",
    "\"\"\"def tokenize_further(tokens, seperator_list=[\"-\",\"–\",\"—\",\"'\",\"£\",\"/\",\":\"]):\n",
    "    Further splits the tokens on the seperators, while keeping the seperators as tokens.\n",
    "    Returns a further tokenized list of tokens.\n",
    "    split_tokens=split_keep_sep(tokens, seperator_list[0], only_unique=False)\n",
    "    for sep in seperator_list[1:]:\n",
    "        split_tokens=split_keep_sep(split_tokens, sep, only_unique=False)\n",
    "    \n",
    "    return [token for token in split_tokens if token!=\"\"] # filters out \"\" (empty space tokens)\"\"\"\n",
    "\n",
    "\"\"\"\n",
    "unique_tokens=get_unique_tokens(train_df)\n",
    "no_embeddings=[token for token in unique_tokens if token not in word_vector_50_dict.keys()]\n",
    "split_unique_tokens=split_keep_sep(unique_tokens, \"-\")\n",
    "split_unique_tokens2=split_keep_sep(split_unique_tokens, \"–\")\n",
    "split_unique_tokens3=split_keep_sep(split_unique_tokens2, \"—\")\n",
    "split_unique_tokens4=split_keep_sep(split_unique_tokens3, \"'\")\n",
    "split_unique_tokens5=split_keep_sep(split_unique_tokens4, \"£\")\n",
    "split_unique_tokens6=split_keep_sep(split_unique_tokens5, \"/\")\n",
    "split_unique_tokens7=split_keep_sep(split_unique_tokens6, \":\")\n",
    "\n",
    "print(\"Num of initial tokens:\", len(unique_tokens), \"\\nNum of tokens after '-' split:\", len(split_unique_tokens))\n",
    "print(\"Num of tokens after 2nd split\", len(split_unique_tokens2),\"\\nNum of tokens after 3rd split\", len(split_unique_tokens3))\n",
    "print(\"Num of tokens after 4th split\", len(split_unique_tokens4), \"\\nNum of tokens after 5th split\", len(split_unique_tokens5))\n",
    "print(\"Num of tokens after 6th split\", len(split_unique_tokens6), \"\\nNum of tokens after 7th split\", len(split_unique_tokens7),\"\\n\")\n",
    "\n",
    "no_embeddings_2=[token for token in split_unique_tokens if token not in word_vector_50_dict.keys()]\n",
    "no_embeddings_3=[token for token in split_unique_tokens2 if token not in word_vector_50_dict.keys()]\n",
    "no_embeddings_4=[token for token in split_unique_tokens3 if token not in word_vector_50_dict.keys()]\n",
    "no_embeddings_5=[token for token in split_unique_tokens4 if token not in word_vector_50_dict.keys()]\n",
    "no_embeddings_6=[token for token in split_unique_tokens5 if token not in word_vector_50_dict.keys()]\n",
    "no_embeddings_7=[token for token in split_unique_tokens6 if token not in word_vector_50_dict.keys()]\n",
    "no_embeddings_8=[token for token in split_unique_tokens7 if token not in word_vector_50_dict.keys()]\n",
    "\n",
    "print(\"Number of tokens with no embedding in GloVe (with the current tokenization):\")\n",
    "print(\"with '-' with words:\",len(no_embeddings),\"\\nwith '-' seperate:\", len(no_embeddings_2),)\n",
    "print(\"with 2 - with words:\", len(no_embeddings_3),\"\\nwith all - with words:\", len(no_embeddings_4))\n",
    "print(\"with all - and ' with words:\", len(no_embeddings_5) ,\"\\nwith all -, ', £ with words:\", len(no_embeddings_6))\n",
    "print(\"with all -, ', £, / with words:\", len(no_embeddings_7),\"\\nwith all -, ', £, /, : with words:\", len(no_embeddings_8),\"\\n\")\n",
    "\n",
    "print(no_embeddings_8[0:100])\"\"\"\n"
   ]
  }
 ],
 "metadata": {
  "kernelspec": {
   "display_name": "Python 3",
   "language": "python",
   "name": "python3"
  },
  "language_info": {
   "codemirror_mode": {
    "name": "ipython",
    "version": 3
   },
   "file_extension": ".py",
   "mimetype": "text/x-python",
   "name": "python",
   "nbconvert_exporter": "python",
   "pygments_lexer": "ipython3",
   "version": "3.6.3"
  }
 },
 "nbformat": 4,
 "nbformat_minor": 2
}
