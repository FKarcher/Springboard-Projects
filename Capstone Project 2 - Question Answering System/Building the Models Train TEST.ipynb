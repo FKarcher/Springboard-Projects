{
 "cells": [
  {
   "cell_type": "markdown",
   "metadata": {},
   "source": [
    "# Building the Question Answering System"
   ]
  },
  {
   "cell_type": "code",
   "execution_count": 1,
   "metadata": {},
   "outputs": [
    {
     "name": "stderr",
     "output_type": "stream",
     "text": [
      "Using TensorFlow backend.\n"
     ]
    }
   ],
   "source": [
    "import re\n",
    "import numpy as np\n",
    "import pandas as pd\n",
    "from nltk.tokenize import word_tokenize\n",
    "from keras.models import Model\n",
    "from keras.layers import Input, Dense, GRU, Masking, Lambda, Bidirectional, Dropout\n",
    "from keras.preprocessing.sequence import pad_sequences\n",
    "from keras import regularizers\n",
    "from keras.optimizers import Adam\n",
    "import keras.backend as K\n",
    "import tensorflow as tf\n",
    "\n",
    "from EpisodicMemoryModule import EpisodicMemoryModule"
   ]
  },
  {
   "cell_type": "markdown",
   "metadata": {},
   "source": [
    "# Preprocessing"
   ]
  },
  {
   "cell_type": "markdown",
   "metadata": {},
   "source": [
    "### Reading in Training and Dev Datasets\n",
    "It should be noted that the most recent version of the Stanford Question Answering dataset (SQuAD 2.0) includes 'impossible questions' as denoted in the dataset's '*is_impossible*' column that was not part of the dataset in earlier versions. The reason for this (according to the SQuAD website) is to encourage research into Question Answering systems that can cope with un-answerable questions by not even attempting to answer them (by returning empty string outputs or else). Given the added complexity this brings to the project, you will see in the code below that I simply exclude 'impossible questions' in this project."
   ]
  },
  {
   "cell_type": "code",
   "execution_count": 2,
   "metadata": {
    "collapsed": true
   },
   "outputs": [],
   "source": [
    "train_df_all=pd.read_json(\"C:/Users/Lukas Buteliauskas/Desktop/training_data.json\").reset_index(drop=True)\n",
    "dev_df_all=pd.read_json(\"C:/Users/Lukas Buteliauskas/Desktop/validation_data.json\").reset_index(drop=True)\n",
    "\n",
    "# Dataframes consisting only of 'possible' to answer questions.\n",
    "train_df = train_df_all[train_df_all.is_impossible==False][[\"context\", \"question\", \"answer_text\",\n",
    "                                                    \"answer_start\", \"title\"]].reset_index(drop=True)\n",
    "\n",
    "dev_df = dev_df_all[dev_df_all.is_impossible==False][[\"context\", \"question\", \"answer_text\",\n",
    "                                                    \"answer_start\", \"title\"]].reset_index(drop=True)\n",
    "\n",
    "# Simple Processing/Adding answer_end\n",
    "train_df.answer_start = train_df.answer_start.astype(int)\n",
    "dev_df.answer_start = dev_df.answer_start.astype(int)\n",
    "\n",
    "contexts, questions, answers, answer_start = (train_df.context.values,\n",
    "                                              train_df.question.values, \n",
    "                                              train_df.answer_text.values,\n",
    "                                              train_df.answer_start.values)\n",
    "answer_end = np.array([answer_start[idx] + len(answers[idx]) for idx in range(len(answer_start))])"
   ]
  },
  {
   "cell_type": "markdown",
   "metadata": {},
   "source": [
    "## Word Vectorization\n",
    "To be able to use words, phrases, questions or other natural language constructs in our model we require a to provide our neural network a numerical representation of our words (as these are the elemental NLP 'particles'). The simplest implementation would be to use 'one hot encoding' and define each word as a vector the size of our dictionary (the number of unique words found in our collection of documents, our corpus). However, this approach will most likely be insufficient for the purposes of a question answering system. word2vec and GloVe are 2 popular choices sophisticated options for word embeddings that also capture word similarities. I will not go into the details of either architecture other than to say that we will not be re-training the word vectors due to the insufficient size of the dataset, and we will begin with the GloVe word embeddings due to it's superior performance in most 'downstream' modelling tasks. Having said that, given the simplicity of swapping word vector representations we will also test out performance with word2vec (providing we can do so in a time-efficient manner).\n",
    "\n",
    "Info and download links for GloVe can be found at: https://nlp.stanford.edu/projects/glove/"
   ]
  },
  {
   "cell_type": "markdown",
   "metadata": {},
   "source": [
    "### Word Vector Custom Function"
   ]
  },
  {
   "cell_type": "code",
   "execution_count": 3,
   "metadata": {
    "collapsed": true
   },
   "outputs": [],
   "source": [
    "def get_word_vector_dict(url_or_path):\n",
    "    \"\"\" Input: url_or_path, a URL or a local path.\n",
    "        Output: word_vector_dict, a dictionary of GloVe word vectors where words are the keys\n",
    "        and the values are the word vectors with the dimension specified in the input file.\"\"\"\n",
    "    with open(url_or_path, encoding=\"utf8\") as glove_text:\n",
    "        word_embeddings = [line.split(\" \") for line in glove_text.readlines()]\n",
    "    word_vector_dict = {element[0]:list(map(float, element[1:])) for element in word_embeddings}\n",
    "    \n",
    "    return word_vector_dict"
   ]
  },
  {
   "cell_type": "markdown",
   "metadata": {},
   "source": [
    "### Setting up the Word Vectors\n"
   ]
  },
  {
   "cell_type": "code",
   "execution_count": 4,
   "metadata": {
    "collapsed": true
   },
   "outputs": [],
   "source": [
    "word_vector_50_dict = get_word_vector_dict(\"C:/Users/Lukas Buteliauskas/Desktop/glove.6B.50d.txt\")\n",
    "vocab = np.array(word_vector_50_dict.keys()) #400k words as per the documentation.\n",
    "word_vector_100_dict = get_word_vector_dict(\"C:/Users/Lukas Buteliauskas/Desktop/glove.6B.100d.txt\")"
   ]
  },
  {
   "cell_type": "markdown",
   "metadata": {},
   "source": [
    "### Model Hyperparameters"
   ]
  },
  {
   "cell_type": "code",
   "execution_count": 5,
   "metadata": {
    "collapsed": true
   },
   "outputs": [],
   "source": [
    "# Model Architecture Hypermarameters\n",
    "word_vector_size = 50\n",
    "hidden_units = 50\n",
    "input_h_units = int(hidden_units/2)\n",
    "num_memory_passes = 3\n",
    "regularization_val = 1e-4\n",
    "dropout = 0.1"
   ]
  },
  {
   "cell_type": "markdown",
   "metadata": {},
   "source": [
    "### Tokenization, Embedding, Padding Custom Functions"
   ]
  },
  {
   "cell_type": "code",
   "execution_count": 6,
   "metadata": {
    "collapsed": true
   },
   "outputs": [],
   "source": [
    "def tokenize(string):\n",
    "    \"\"\"Takes a string (either context, question or answer) and returns the string as a list of tokens.\n",
    "    Input: string, a str object.\n",
    "    Output: a list of tokens, where each token is a substring.\"\"\"\n",
    "    tokens = [token.replace(\"``\", '\"').replace(\"''\", '\"').lower() for token in word_tokenize(string)]\n",
    "    split_tokens = []\n",
    "    \n",
    "    for token in tokens:\n",
    "        split_tokens.extend(re.split('(\\W+)', token)) # split further\n",
    "    \n",
    "    return [token for token in split_tokens if token!=\" \" and token!=\"\"]\n",
    "\n",
    "\n",
    "def get_embedding(tokens):\n",
    "    \"\"\"Takes a tokenized context, question or answer and returns its vectorized/embedded form.\n",
    "    Input: tokens, list of tokens of a string.\n",
    "    Output: embedding, a numpy array of the vectorized/embedded representation of the string.\"\"\"\n",
    "    assert word_vector_size==50 or word_vector_size==100\n",
    "    tokens = np.array(tokens)\n",
    "    embedding=[]\n",
    "    \n",
    "    if word_vector_size==50:\n",
    "        word_vector_dict=word_vector_50_dict\n",
    "    else:\n",
    "        word_vector_dict=word_vector_100_dict\n",
    "    \n",
    "    for token in tokens:\n",
    "        if token in word_vector_dict.keys(): \n",
    "            embedding.extend(word_vector_dict[token])\n",
    "        else:\n",
    "            # Words with no embedding are assigned the 'unk' token vectorization (already in GloVe)\n",
    "            embedding.extend(word_vector_dict[\"unk\"])\n",
    "    \n",
    "    return np.array(embedding)\n",
    "\n",
    "\n",
    "def get_sent_end_idx(context_tokenizations):\n",
    "    \"\"\" Get indices of tokens that are '.' (sentence end tokens). For one or many contexts.\n",
    "    Input: context_tokenizations, a list or numpy array of 1 or more tokenized contexts.\n",
    "    Output: a numpy array of indices of sentence end tokens.\"\"\"\n",
    "    return np.array([np.where(np.array(context)==\".\") for context in context_tokenizations])\n",
    "\n",
    "\n",
    "def get_padded_inputs(tokenized_inputs, string_type=\"context\"):\n",
    "    \"\"\" Takes a numpy array of tokenized inputs and returns embedding and padding.\n",
    "    Input: input_array, a numpy array of question or answer tokenizations.\n",
    "    Output: (embedded_input, padded_input) a tuple of numpy arrays.\"\"\"\n",
    "    assert isinstance(tokenized_inputs[0], list)==True # Assert multiple samples\n",
    "    embedded_inputs = [get_embedding(tokenized_input) for tokenized_input in tokenized_inputs]\n",
    "    \n",
    "    if string_type==\"context\":\n",
    "        padded_input = pad_sequences(embedded_inputs, max_context_len*word_vector_size, padding=\"post\",\n",
    "                                dtype=\"float32\").reshape(len(tokenized_inputs), -1, word_vector_size)\n",
    "    elif string_type==\"question\":\n",
    "        padded_input = pad_sequences(embedded_inputs, max_question_len*word_vector_size, padding=\"post\",\n",
    "                                dtype=\"float32\").reshape(len(tokenized_inputs), -1, word_vector_size)\n",
    "    else:\n",
    "        print(\"Incorrect string_type parameter value.\")\n",
    "    \n",
    "    return padded_input\n",
    "\n",
    "\n",
    "def get_answer_span(answer_start, answer_end):\n",
    "    \"\"\" Returns one hot numpy matrices for the answer_start and answer_end indices.\n",
    "       Input: answer_start, numpy array containing the 'answer start' index in the context\n",
    "              answer_end, numpy array containing the 'answer end' index in the context\n",
    "       Output: tuple of size 2, containing the one hot embeddings of the indices for each context\"\"\"\n",
    "    y_answer_start, y_answer_end= ([] , [])\n",
    "    start_arr, end_arr = (np.zeros(shape=(output_dim,), dtype=float),\n",
    "                          np.zeros(shape=(output_dim,), dtype=float)) # Set the 0.0 arrays\n",
    "  \n",
    "    \n",
    "    if isinstance(answer_start, np.int32) and isinstance(answer_end, np.int32): # Single sample case\n",
    "        start_arr[answer_start]=1.0\n",
    "        end_arr[answer_end]=1.0\n",
    "        y_answer_start, y_answer_end = start_arr, end_arr \n",
    "   \n",
    "    else:\n",
    "        assert len(answer_start)==len(answer_end)\n",
    "        for sample_idx in range(len(answer_start)):  # Multi sample case\n",
    "            start_arr[answer_start[sample_idx]]=1.0\n",
    "            end_arr[answer_end[sample_idx]]=1.0\n",
    "        \n",
    "            y_answer_start.append(start_arr)\n",
    "            y_answer_end.append(end_arr)\n",
    "        \n",
    "            start_arr, end_arr = (np.zeros(shape=(output_dim,), dtype=float),\n",
    "                          np.zeros(shape=(output_dim,), dtype=float)) # Reset the 0.0 arrays\n",
    "        \n",
    "\n",
    "    return (np.array(y_answer_start), np.array(y_answer_end))   "
   ]
  },
  {
   "cell_type": "markdown",
   "metadata": {},
   "source": [
    "The nltk tokenizer generated around 110,00 unique tokens from our contexts, questions and answers in our dataset. ~31,000 of those tokens did not have pre-trained word vectorizations in the GloVe model. Some of these tokens were numbers, expressed as strings in an unfamiliar format, some of these tokens were misspelled words, some of these tokens were works in other languages, or symbols from other alphibets and so on. \n",
    "With the 'regex inspired' split in the tokenized function, we were able to reduce the number of words with no embeddings to around 16,000. To deal with the remaining words with no embeddings we assigned to them the embedding for the token *'unk'*, which by definition is the embedding for unknown words provided by GloVe. Thus any word/token that did not have an embedding got an *'unk'* embedding."
   ]
  },
  {
   "cell_type": "markdown",
   "metadata": {},
   "source": [
    "### Setting up 'Trans-Batch' Variables\n",
    "All the computations needed for each batch training step will be computed later, the variables defined below have to take on values now as they are required in downstream calculations."
   ]
  },
  {
   "cell_type": "code",
   "execution_count": 7,
   "metadata": {
    "collapsed": true
   },
   "outputs": [],
   "source": [
    "\"\"\" Calculating the 'trans-batch' variables. EXECUTE THESE BEFORE ANY CHANGES TO ANYTHING\"\"\"\n",
    "tokenized_contexts = np.array([tokenize(context) for context in contexts])\n",
    "tokenized_questions = np.array([tokenize(question) for question in questions])\n",
    "tokenized_answers = np.array([tokenize(answer) for answer in answers])\n",
    "\n",
    "# Calculating variables used within the model architecture\n",
    "max_context_len = np.max([len(context) for context in tokenized_contexts])\n",
    "max_question_len = np.max([len(question) for question in tokenized_questions])\n",
    "max_answer_len = np.max([len(answer) for answer in tokenized_answers])\n",
    "\n",
    "sent_end_indeces = get_sent_end_idx(tokenized_contexts)\n",
    "output_dim = np.max([len(context) for context in contexts]) "
   ]
  },
  {
   "cell_type": "markdown",
   "metadata": {},
   "source": [
    "# Building the Dynamic Memory Network\n",
    "### Training Hyperparameters"
   ]
  },
  {
   "cell_type": "code",
   "execution_count": 8,
   "metadata": {
    "collapsed": true
   },
   "outputs": [],
   "source": [
    "num_of_samples = len(list(train_df.context.values))\n",
    "num_of_epochs = 1\n",
    "batch_size = 38\n",
    "num_of_batches = int(num_of_samples/batch_size) # Number of iterations\n",
    "learning_rate = 0.001\n",
    "\n",
    "batch_iteration = 0\n",
    "training=True\n",
    "#num_of_batches = int(num_of_samples/batch_size) + 1 ONLY USE IF batch_size DOES NOT DIVIDE num_of_samples"
   ]
  },
  {
   "cell_type": "markdown",
   "metadata": {},
   "source": [
    "## Defining Custom Functions"
   ]
  },
  {
   "cell_type": "code",
   "execution_count": 106,
   "metadata": {
    "collapsed": true
   },
   "outputs": [],
   "source": [
    "def get_facts(facts_output):\n",
    "    \"\"\" Extracts the timesteps (facts) for each sample, then pads each tensor. Returns a 3D tensor.\n",
    "        Input: facts_output, 3D tensor of all the timesteps/samples. Shape=(num samples, max # words, 50)\n",
    "        Output: facts_tensor_list, list of facts for each sample. Each 2D tensor has different shape. \"\"\"\n",
    "    facts_tensor_list = []\n",
    "    input_dim, num_train_samples, num_test_samples=(facts_output.shape[0],\n",
    "                                                    int(batch_size*(1-validation_split)),\n",
    "                                                    int(batch_size*validation_split) + 1)\n",
    "    \n",
    "    if training==True and input_dim==num_train_samples: #training, and computing train samples\n",
    "        print(\"in training\")\n",
    "        start_idx = batch_iteration*batch_size\n",
    "        for sample_index in range(num_train_samples): # training iterations\n",
    "            facts = tf.nn.embedding_lookup(facts_output[sample_index],\n",
    "                                       ids=sent_end_indeces[start_idx+sample_index][0])\n",
    "            facts_tensor_list.append(facts)\n",
    "    \n",
    "    elif training==True and input_dim==num_test_samples:\n",
    "        print(\"in validating\")\n",
    "        start_idx= batch_iteration*batch_size + num_train_samples\n",
    "        for sample_index in range(num_test_samples): # validation iterations\n",
    "            facts = tf.nn.embedding_lookup(facts_output[sample_index],\n",
    "                                       ids=sent_end_indeces[start_idx+sample_index][0])\n",
    "            facts_tensor_list.append(facts)\n",
    "    \n",
    "    elif training==False: # if we are testing the model\n",
    "        print(\"in testing\")\n",
    "        for sample_index in range(test_batch_size): \n",
    "            facts = tf.nn.embedding_lookup(facts_output[sample_index],\n",
    "                                       ids=test_sent_end_indices[sample_index][0])\n",
    "            facts_tensor_list.append(facts)\n",
    "    else: # If input_dim==? (the very first time get_facts is called) return the input. Identity function behavior.\n",
    "        print(\"Left function with identity\")\n",
    "        return  facts_output\n",
    "    print(\"Reached this point\")      \n",
    "    max_num_facts = np.max([facts_tensor.shape[0] for facts_tensor in facts_tensor_list]) #\n",
    "    \n",
    "    # Padding the tensors\n",
    "    for idx in range(len(facts_tensor_list)):\n",
    "        numpy_pad = np.zeros(shape=(max_num_facts-facts_tensor_list[idx].shape[0], hidden_units))\n",
    "        pad = tf.Variable(numpy_pad, dtype=tf.float32)\n",
    "        facts_tensor_list[idx] = K.concatenate([facts_tensor_list[idx], pad], axis=0)\n",
    "        print(facts_tensor_list[idx].shape)\n",
    "    print(\"reached this point 2 \")\n",
    "    return tf.stack(facts_tensor_list) # shape (num samples, max_num_facts, hidden_units)\n",
    "   "
   ]
  },
  {
   "cell_type": "markdown",
   "metadata": {},
   "source": [
    "## Input Module"
   ]
  },
  {
   "cell_type": "markdown",
   "metadata": {},
   "source": [
    "- **What it does:** The Input Module iterates over each context (paragraph of a wikipedia article) and returns embedded representations (facts) of each sentence in the context (for each sample).\n",
    "- **How it does this:** The Input Module uses a Bidirectional GRU that iterates over each word and returns the hidden state after each iteration. The GRU requires the input to be a 3D Tensor of shape (samples, timesteps, columns/features), and each sample must have the same (timesteps, columns/features) shape. However, given that our contexts are of different length (different amounts of words/timesteps), the embedded representations are padded (have 0.0s appended to each context embedding) as to meet the input requirements. As a technical side note, all embedded contexts are padded such that their length is equal to the length of the longest context in the whole sample (again, such that each individual sample has the same shape). To ensure that the GRU interprets the 0.0s as paddings, we mask the input (via the Masking layer). A Dropout Layer is added as a form of regularization. The *get_facts* method then returns the facts for each sample/context by extracting the hidden states/outputs of the GRU corresponding to 'end of sentence token' timesteps (exactly as described in the *'Ask Me Anything...'* paper."
   ]
  },
  {
   "cell_type": "code",
   "execution_count": 108,
   "metadata": {
    "scrolled": true
   },
   "outputs": [
    {
     "name": "stdout",
     "output_type": "stream",
     "text": [
      "Left function with identity\n",
      "Left function with identity\n",
      "facts_tensors shape: (?, ?, 50)\n"
     ]
    },
    {
     "ename": "ValueError",
     "evalue": "Error when checking target: expected FactTensorLambda to have shape (854, 50) but got array with shape (12, 50)",
     "output_type": "error",
     "traceback": [
      "\u001b[1;31m---------------------------------------------------------------------------\u001b[0m",
      "\u001b[1;31mValueError\u001b[0m                                Traceback (most recent call last)",
      "\u001b[1;32m<ipython-input-108-fd882b2794d6>\u001b[0m in \u001b[0;36m<module>\u001b[1;34m()\u001b[0m\n\u001b[0;32m     21\u001b[0m \u001b[0mx_context_test\u001b[0m \u001b[1;33m=\u001b[0m \u001b[0mget_padded_inputs\u001b[0m\u001b[1;33m(\u001b[0m\u001b[0mtokenized_contexts\u001b[0m\u001b[1;33m[\u001b[0m\u001b[1;36m0\u001b[0m\u001b[1;33m:\u001b[0m\u001b[0mbatch_size\u001b[0m\u001b[1;33m]\u001b[0m\u001b[1;33m,\u001b[0m \u001b[0mstring_type\u001b[0m\u001b[1;33m=\u001b[0m\u001b[1;34m\"context\"\u001b[0m\u001b[1;33m)\u001b[0m\u001b[1;33m\u001b[0m\u001b[0m\n\u001b[0;32m     22\u001b[0m \u001b[0my_context_test\u001b[0m \u001b[1;33m=\u001b[0m \u001b[0mnp\u001b[0m\u001b[1;33m.\u001b[0m\u001b[0mzeros\u001b[0m\u001b[1;33m(\u001b[0m\u001b[0mshape\u001b[0m\u001b[1;33m=\u001b[0m\u001b[1;33m(\u001b[0m\u001b[0mbatch_size\u001b[0m\u001b[1;33m,\u001b[0m \u001b[1;36m12\u001b[0m\u001b[1;33m,\u001b[0m \u001b[1;36m50\u001b[0m\u001b[1;33m)\u001b[0m\u001b[1;33m)\u001b[0m\u001b[1;33m\u001b[0m\u001b[0m\n\u001b[1;32m---> 23\u001b[1;33m \u001b[0mcontext_model\u001b[0m\u001b[1;33m.\u001b[0m\u001b[0mfit\u001b[0m\u001b[1;33m(\u001b[0m\u001b[0mx\u001b[0m\u001b[1;33m=\u001b[0m\u001b[0mx_context_test\u001b[0m\u001b[1;33m,\u001b[0m \u001b[0my\u001b[0m\u001b[1;33m=\u001b[0m\u001b[0my_context_test\u001b[0m\u001b[1;33m,\u001b[0m \u001b[0mbatch_size\u001b[0m\u001b[1;33m=\u001b[0m\u001b[0mbatch_size\u001b[0m\u001b[1;33m,\u001b[0m \u001b[0mvalidation_split\u001b[0m\u001b[1;33m=\u001b[0m\u001b[1;36m0.1\u001b[0m\u001b[1;33m)\u001b[0m\u001b[1;33m\u001b[0m\u001b[0m\n\u001b[0m",
      "\u001b[1;32m~\\Anaconda3_\\lib\\site-packages\\keras\\engine\\training.py\u001b[0m in \u001b[0;36mfit\u001b[1;34m(self, x, y, batch_size, epochs, verbose, callbacks, validation_split, validation_data, shuffle, class_weight, sample_weight, initial_epoch, steps_per_epoch, validation_steps, **kwargs)\u001b[0m\n\u001b[0;32m    953\u001b[0m             \u001b[0msample_weight\u001b[0m\u001b[1;33m=\u001b[0m\u001b[0msample_weight\u001b[0m\u001b[1;33m,\u001b[0m\u001b[1;33m\u001b[0m\u001b[0m\n\u001b[0;32m    954\u001b[0m             \u001b[0mclass_weight\u001b[0m\u001b[1;33m=\u001b[0m\u001b[0mclass_weight\u001b[0m\u001b[1;33m,\u001b[0m\u001b[1;33m\u001b[0m\u001b[0m\n\u001b[1;32m--> 955\u001b[1;33m             batch_size=batch_size)\n\u001b[0m\u001b[0;32m    956\u001b[0m         \u001b[1;31m# Prepare validation data.\u001b[0m\u001b[1;33m\u001b[0m\u001b[1;33m\u001b[0m\u001b[0m\n\u001b[0;32m    957\u001b[0m         \u001b[0mdo_validation\u001b[0m \u001b[1;33m=\u001b[0m \u001b[1;32mFalse\u001b[0m\u001b[1;33m\u001b[0m\u001b[0m\n",
      "\u001b[1;32m~\\Anaconda3_\\lib\\site-packages\\keras\\engine\\training.py\u001b[0m in \u001b[0;36m_standardize_user_data\u001b[1;34m(self, x, y, sample_weight, class_weight, check_array_lengths, batch_size)\u001b[0m\n\u001b[0;32m    790\u001b[0m                 \u001b[0mfeed_output_shapes\u001b[0m\u001b[1;33m,\u001b[0m\u001b[1;33m\u001b[0m\u001b[0m\n\u001b[0;32m    791\u001b[0m                 \u001b[0mcheck_batch_axis\u001b[0m\u001b[1;33m=\u001b[0m\u001b[1;32mFalse\u001b[0m\u001b[1;33m,\u001b[0m  \u001b[1;31m# Don't enforce the batch size.\u001b[0m\u001b[1;33m\u001b[0m\u001b[0m\n\u001b[1;32m--> 792\u001b[1;33m                 exception_prefix='target')\n\u001b[0m\u001b[0;32m    793\u001b[0m \u001b[1;33m\u001b[0m\u001b[0m\n\u001b[0;32m    794\u001b[0m             \u001b[1;31m# Generate sample-wise weight values given the `sample_weight` and\u001b[0m\u001b[1;33m\u001b[0m\u001b[1;33m\u001b[0m\u001b[0m\n",
      "\u001b[1;32m~\\Anaconda3_\\lib\\site-packages\\keras\\engine\\training_utils.py\u001b[0m in \u001b[0;36mstandardize_input_data\u001b[1;34m(data, names, shapes, check_batch_axis, exception_prefix)\u001b[0m\n\u001b[0;32m    134\u001b[0m                             \u001b[1;34m': expected '\u001b[0m \u001b[1;33m+\u001b[0m \u001b[0mnames\u001b[0m\u001b[1;33m[\u001b[0m\u001b[0mi\u001b[0m\u001b[1;33m]\u001b[0m \u001b[1;33m+\u001b[0m \u001b[1;34m' to have shape '\u001b[0m \u001b[1;33m+\u001b[0m\u001b[1;33m\u001b[0m\u001b[0m\n\u001b[0;32m    135\u001b[0m                             \u001b[0mstr\u001b[0m\u001b[1;33m(\u001b[0m\u001b[0mshape\u001b[0m\u001b[1;33m)\u001b[0m \u001b[1;33m+\u001b[0m \u001b[1;34m' but got array with shape '\u001b[0m \u001b[1;33m+\u001b[0m\u001b[1;33m\u001b[0m\u001b[0m\n\u001b[1;32m--> 136\u001b[1;33m                             str(data_shape))\n\u001b[0m\u001b[0;32m    137\u001b[0m     \u001b[1;32mreturn\u001b[0m \u001b[0mdata\u001b[0m\u001b[1;33m\u001b[0m\u001b[0m\n\u001b[0;32m    138\u001b[0m \u001b[1;33m\u001b[0m\u001b[0m\n",
      "\u001b[1;31mValueError\u001b[0m: Error when checking target: expected FactTensorLambda to have shape (854, 50) but got array with shape (12, 50)"
     ]
    }
   ],
   "source": [
    "training=True\n",
    "validation_split=0.1\n",
    "context_input = Input(shape=(max_context_len, word_vector_size), name=\"ContextInput\")\n",
    "\n",
    "context_mask = Masking(mask_value=0.0, name=\"ContextMask\")(context_input)\n",
    "\n",
    "facts_output = Bidirectional(GRU(units=input_h_units, return_sequences=True, dropout=dropout,\n",
    "                        kernel_regularizer=regularizers.l2(regularization_val),\n",
    "                        recurrent_regularizer=regularizers.l2(regularization_val)),\n",
    "                        merge_mode=\"concat\", name=\"ContextBiGRU\")(context_mask)\n",
    "\n",
    "facts_tensors = Lambda(get_facts, name=\"FactTensorLambda\")(facts_output)\n",
    "\n",
    "facts_mask = Masking(mask_value=0.0, name=\"FactTensorMask\")(facts_tensors)\n",
    "\n",
    "\n",
    "print(\"facts_tensors shape:\", facts_tensors.shape)\n",
    "context_model = Model(inputs=context_input, outputs=facts_tensors)\n",
    "context_model.compile(loss='categorical_crossentropy', optimizer=Adam(lr=learning_rate),\n",
    "                      metrics=['accuracy', \"categorical_accuracy\"])\n",
    "x_context_test = get_padded_inputs(tokenized_contexts[0:batch_size], string_type=\"context\")\n",
    "y_context_test = np.zeros(shape=(batch_size, 12, 50))\n",
    "context_model.fit(x=x_context_test, y=y_context_test, batch_size=batch_size, validation_split=0.1)"
   ]
  },
  {
   "cell_type": "markdown",
   "metadata": {},
   "source": [
    "## Question Module"
   ]
  },
  {
   "cell_type": "markdown",
   "metadata": {},
   "source": [
    "- **What it does:** The Question Module (similarly to the input module) returns an embedded representation for each question. However, unlike the Input Module, the only output of the Question Module is the last hidden state of the GRU (the embedded representation). This again, is exactly the implementation defined in the beforementioned paper, but it makes sense, considering that all questions are 1 sentence long.\n",
    "- **How it does it:** Similarly to the input module (spotting a trend here) the input has to be padded and masked since not all questions are of equal length. This time a 'vanilla' unidirectional GRU is used as there is only 1 sentence/sequence, and so we wouldn't benefit from a bibirectional architecture like in the Input Module. Given that the outputs of the GRU are exactly what we want, no further processing is required."
   ]
  },
  {
   "cell_type": "code",
   "execution_count": 15,
   "metadata": {},
   "outputs": [
    {
     "name": "stdout",
     "output_type": "stream",
     "text": [
      "Train on 34 samples, validate on 4 samples\n",
      "Epoch 1/1\n",
      "34/34 [==============================] - 100s 3s/step - loss: 0.0125 - acc: 0.0000e+00 - categorical_accuracy: 0.0000e+00 - val_loss: 0.0123 - val_acc: 0.0000e+00 - val_categorical_accuracy: 0.0000e+00\n"
     ]
    },
    {
     "data": {
      "text/plain": [
       "<keras.callbacks.History at 0x1a24c67ef98>"
      ]
     },
     "execution_count": 15,
     "metadata": {},
     "output_type": "execute_result"
    }
   ],
   "source": [
    "question_input = Input(shape=(max_question_len, word_vector_size), name=\"QuestionInput\")\n",
    "\n",
    "question_mask = Masking(mask_value=0.0, name=\"QuestionMask\")(question_input)\n",
    "\n",
    "question_output = GRU(units=hidden_units, dropout=dropout,\n",
    "                      kernel_regularizer=regularizers.l2(regularization_val),\n",
    "                      recurrent_regularizer=regularizers.l2(regularization_val),\n",
    "                      name=\"QuestionGRU\")(question_mask)\n"
   ]
  },
  {
   "cell_type": "markdown",
   "metadata": {},
   "source": [
    "## Semantic Memory Module"
   ]
  },
  {
   "cell_type": "markdown",
   "metadata": {},
   "source": [
    "- **What it does:** The task of the Episodic Memory Module (in simplified terms) is to take the Context and Question embeddings, returned by the Input and Question modules respectively, and a return the final memory representation to the Answer Module. There are many Attention Mechanisms and various implementation details so I will cover the details of the Episodic Memory Module used in this project in the final report.\n",
    "- **How it does it:** Again, in simplified terms, this Module can be thought of to contain 2 'parts'. An *'Attention Mechanism'* and a *'Memory Update Mechanism'*. Given the 'facts' returned by the Input Module (embedded representation of each sentence in the context) and the Question Module output (which is also an embedded representation, but this time of a single sentence, the question), the Episodic Memory Module chooses which parts of the inputs (facts) to focus on through the attention mechanism. It then produces a ”memory” vector representation taking into account the question as well as the previous memory. Each iteration provides the module with newly relevant information about the input. This acts as a form of transitive reasoning, by effectively allowing the module to re-pay attention to parts of the context that it found to be relevant to answering the question. "
   ]
  },
  {
   "cell_type": "code",
   "execution_count": 110,
   "metadata": {
    "scrolled": false
   },
   "outputs": [
    {
     "ename": "ValueError",
     "evalue": "Cannot infer num from shape (?, ?, 50)",
     "output_type": "error",
     "traceback": [
      "\u001b[1;31m---------------------------------------------------------------------------\u001b[0m",
      "\u001b[1;31mValueError\u001b[0m                                Traceback (most recent call last)",
      "\u001b[1;32m<ipython-input-110-df05a9955fd9>\u001b[0m in \u001b[0;36m<module>\u001b[1;34m()\u001b[0m\n\u001b[0;32m      1\u001b[0m epm_output = EpisodicMemoryModule(units=hidden_units, batch_size=batch_size, emb_dim=word_vector_size,\n\u001b[1;32m----> 2\u001b[1;33m             memory_steps=num_memory_passes)([facts_tensors, question_output])\n\u001b[0m\u001b[0;32m      3\u001b[0m \u001b[1;33m\u001b[0m\u001b[0m\n\u001b[0;32m      4\u001b[0m \u001b[0mepm_output\u001b[0m \u001b[1;33m=\u001b[0m \u001b[0mDropout\u001b[0m\u001b[1;33m(\u001b[0m\u001b[0mdropout\u001b[0m\u001b[1;33m,\u001b[0m \u001b[0mname\u001b[0m\u001b[1;33m=\u001b[0m\u001b[1;34m\"FinalMemoryDropout\"\u001b[0m\u001b[1;33m)\u001b[0m\u001b[1;33m(\u001b[0m\u001b[0mepm_output\u001b[0m\u001b[1;33m)\u001b[0m\u001b[1;33m\u001b[0m\u001b[0m\n",
      "\u001b[1;32m~\\Anaconda3_\\lib\\site-packages\\keras\\engine\\base_layer.py\u001b[0m in \u001b[0;36m__call__\u001b[1;34m(self, inputs, **kwargs)\u001b[0m\n\u001b[0;32m    458\u001b[0m             \u001b[1;31m# Actually call the layer,\u001b[0m\u001b[1;33m\u001b[0m\u001b[1;33m\u001b[0m\u001b[0m\n\u001b[0;32m    459\u001b[0m             \u001b[1;31m# collecting output(s), mask(s), and shape(s).\u001b[0m\u001b[1;33m\u001b[0m\u001b[1;33m\u001b[0m\u001b[0m\n\u001b[1;32m--> 460\u001b[1;33m             \u001b[0moutput\u001b[0m \u001b[1;33m=\u001b[0m \u001b[0mself\u001b[0m\u001b[1;33m.\u001b[0m\u001b[0mcall\u001b[0m\u001b[1;33m(\u001b[0m\u001b[0minputs\u001b[0m\u001b[1;33m,\u001b[0m \u001b[1;33m**\u001b[0m\u001b[0mkwargs\u001b[0m\u001b[1;33m)\u001b[0m\u001b[1;33m\u001b[0m\u001b[0m\n\u001b[0m\u001b[0;32m    461\u001b[0m             \u001b[0moutput_mask\u001b[0m \u001b[1;33m=\u001b[0m \u001b[0mself\u001b[0m\u001b[1;33m.\u001b[0m\u001b[0mcompute_mask\u001b[0m\u001b[1;33m(\u001b[0m\u001b[0minputs\u001b[0m\u001b[1;33m,\u001b[0m \u001b[0mprevious_mask\u001b[0m\u001b[1;33m)\u001b[0m\u001b[1;33m\u001b[0m\u001b[0m\n\u001b[0;32m    462\u001b[0m \u001b[1;33m\u001b[0m\u001b[0m\n",
      "\u001b[1;32m~\\Desktop\\Springboard Projects\\Capstone Project 2 - Question Answering System\\EpisodicMemoryModule.py\u001b[0m in \u001b[0;36mcall\u001b[1;34m(self, inputs)\u001b[0m\n\u001b[0;32m    129\u001b[0m         \u001b[0mquestion\u001b[0m \u001b[1;33m=\u001b[0m \u001b[0minputs\u001b[0m\u001b[1;33m[\u001b[0m\u001b[1;36m1\u001b[0m\u001b[1;33m]\u001b[0m\u001b[1;33m\u001b[0m\u001b[0m\n\u001b[0;32m    130\u001b[0m         \u001b[0mmemory\u001b[0m \u001b[1;33m=\u001b[0m \u001b[0mK\u001b[0m\u001b[1;33m.\u001b[0m\u001b[0midentity\u001b[0m\u001b[1;33m(\u001b[0m\u001b[0mquestion\u001b[0m\u001b[1;33m)\u001b[0m   \u001b[1;31m# Initialize memory to the question\u001b[0m\u001b[1;33m\u001b[0m\u001b[0m\n\u001b[1;32m--> 131\u001b[1;33m         \u001b[0mfact_list\u001b[0m \u001b[1;33m=\u001b[0m \u001b[0mtf\u001b[0m\u001b[1;33m.\u001b[0m\u001b[0munstack\u001b[0m\u001b[1;33m(\u001b[0m\u001b[0mfacts\u001b[0m\u001b[1;33m,\u001b[0m \u001b[0maxis\u001b[0m\u001b[1;33m=\u001b[0m\u001b[1;36m1\u001b[0m\u001b[1;33m)\u001b[0m\u001b[1;33m\u001b[0m\u001b[0m\n\u001b[0m\u001b[0;32m    132\u001b[0m \u001b[1;33m\u001b[0m\u001b[0m\n\u001b[0;32m    133\u001b[0m         \u001b[1;32mfor\u001b[0m \u001b[0mstep\u001b[0m \u001b[1;32min\u001b[0m \u001b[0mrange\u001b[0m\u001b[1;33m(\u001b[0m\u001b[0mself\u001b[0m\u001b[1;33m.\u001b[0m\u001b[0mmemory_steps\u001b[0m\u001b[1;33m)\u001b[0m\u001b[1;33m:\u001b[0m\u001b[1;33m\u001b[0m\u001b[0m\n",
      "\u001b[1;32m~\\Anaconda3_\\lib\\site-packages\\tensorflow\\python\\ops\\array_ops.py\u001b[0m in \u001b[0;36munstack\u001b[1;34m(value, num, axis, name)\u001b[0m\n\u001b[0;32m   1089\u001b[0m       \u001b[0mnum\u001b[0m \u001b[1;33m=\u001b[0m \u001b[0mvalue_shape\u001b[0m\u001b[1;33m[\u001b[0m\u001b[0maxis\u001b[0m\u001b[1;33m]\u001b[0m\u001b[1;33m.\u001b[0m\u001b[0mvalue\u001b[0m\u001b[1;33m\u001b[0m\u001b[0m\n\u001b[0;32m   1090\u001b[0m   \u001b[1;32mif\u001b[0m \u001b[0mnum\u001b[0m \u001b[1;32mis\u001b[0m \u001b[1;32mNone\u001b[0m\u001b[1;33m:\u001b[0m\u001b[1;33m\u001b[0m\u001b[0m\n\u001b[1;32m-> 1091\u001b[1;33m     \u001b[1;32mraise\u001b[0m \u001b[0mValueError\u001b[0m\u001b[1;33m(\u001b[0m\u001b[1;34m\"Cannot infer num from shape %s\"\u001b[0m \u001b[1;33m%\u001b[0m \u001b[0mvalue_shape\u001b[0m\u001b[1;33m)\u001b[0m\u001b[1;33m\u001b[0m\u001b[0m\n\u001b[0m\u001b[0;32m   1092\u001b[0m   \u001b[1;32mreturn\u001b[0m \u001b[0mgen_array_ops\u001b[0m\u001b[1;33m.\u001b[0m\u001b[0munpack\u001b[0m\u001b[1;33m(\u001b[0m\u001b[0mvalue\u001b[0m\u001b[1;33m,\u001b[0m \u001b[0mnum\u001b[0m\u001b[1;33m=\u001b[0m\u001b[0mnum\u001b[0m\u001b[1;33m,\u001b[0m \u001b[0maxis\u001b[0m\u001b[1;33m=\u001b[0m\u001b[0maxis\u001b[0m\u001b[1;33m,\u001b[0m \u001b[0mname\u001b[0m\u001b[1;33m=\u001b[0m\u001b[0mname\u001b[0m\u001b[1;33m)\u001b[0m\u001b[1;33m\u001b[0m\u001b[0m\n\u001b[0;32m   1093\u001b[0m \u001b[1;33m\u001b[0m\u001b[0m\n",
      "\u001b[1;31mValueError\u001b[0m: Cannot infer num from shape (?, ?, 50)"
     ]
    }
   ],
   "source": [
    "epm_output = EpisodicMemoryModule(units=hidden_units, batch_size=batch_size, emb_dim=word_vector_size,\n",
    "            memory_steps=num_memory_passes)([facts_masks, question_output]) #was facts_tensors\n",
    "\n",
    "epm_output = Dropout(dropout, name=\"FinalMemoryDropout\")(epm_output) "
   ]
  },
  {
   "cell_type": "markdown",
   "metadata": {},
   "source": [
    "# Answer Module/Model Definition\n",
    "\n",
    "- **What it does:** The final module of the Dynamic Memory Network is the Answer Module. The task of the Answer Module is to produce an answer given the output of the Semantic Memory Module. Given the nature of the DMN (being modular and thus generalisable to many different types of tasks) once again there are many implementations of the Answer Module, and once again I will spare the details for the report and only give a brief outline.\n",
    "- **How it does it:** In this project we trained the network in a supervised setting. In the SQuAD dataset each answer is a span of the context meaning that the answer can be retrieved directly from the context as a continuous string. Thus the task of predicting the answer can be simplified to training the model to predict the start and end indices of the context, as this would allow us to directly extract the answer from the context. The objective/loss function is the sum of the categorical cross-entropy errors over the start/end index probability vectors (*start_idx_probs* and *end_idx_probs*.) "
   ]
  },
  {
   "cell_type": "code",
   "execution_count": 13,
   "metadata": {
    "collapsed": true
   },
   "outputs": [],
   "source": [
    "start_idx_probs = Dense(units=output_dim, activation=\"softmax\", name=\"StartIdxProbs\",\n",
    "                        kernel_regularizer=regularizers.l2(regularization_val))(epm_output) \n",
    "\n",
    "end_idx_probs = Dense(units=output_dim, activation=\"softmax\", name=\"EndIdxProbs\",\n",
    "                      kernel_regularizer=regularizers.l2(regularization_val))(epm_output)\n",
    "\n",
    "DMN_model = Model(inputs=[context_input, question_input], outputs=[start_idx_probs, end_idx_probs])\n",
    "\n",
    "DMN_model.compile(loss='categorical_crossentropy', optimizer=Adam(lr=learning_rate),\n",
    "                      metrics=['accuracy', \"categorical_accuracy\"])\n",
    "\n",
    "#print(DMN_model.summary())"
   ]
  },
  {
   "cell_type": "markdown",
   "metadata": {},
   "source": [
    "# Training the Dynamic Memory Network\n"
   ]
  },
  {
   "cell_type": "code",
   "execution_count": 32,
   "metadata": {
    "scrolled": true
   },
   "outputs": [
    {
     "name": "stdout",
     "output_type": "stream",
     "text": [
      "Train on 34 samples, validate on 4 samples\n",
      "Epoch 1/1\n"
     ]
    },
    {
     "ename": "InvalidArgumentError",
     "evalue": "Incompatible shapes: [38] vs. [34]\n\t [[Node: training/Adam/gradients/loss/EndIdxProbs_loss/mul_1_grad/BroadcastGradientArgs = BroadcastGradientArgs[T=DT_INT32, _class=[\"loc:@training/Adam/gradients/loss/EndIdxProbs_loss/mul_1_grad/Reshape\"], _device=\"/job:localhost/replica:0/task:0/device:CPU:0\"](training/Adam/gradients/loss/EndIdxProbs_loss/mul_1_grad/Shape, training/Adam/gradients/loss/EndIdxProbs_loss/mul_1_grad/Shape_1)]]",
     "output_type": "error",
     "traceback": [
      "\u001b[1;31m---------------------------------------------------------------------------\u001b[0m",
      "\u001b[1;31mInvalidArgumentError\u001b[0m                      Traceback (most recent call last)",
      "\u001b[1;32m<ipython-input-32-b1646810ed6e>\u001b[0m in \u001b[0;36m<module>\u001b[1;34m()\u001b[0m\n\u001b[0;32m     12\u001b[0m \u001b[1;33m\u001b[0m\u001b[0m\n\u001b[0;32m     13\u001b[0m         history = DMN_model.fit(x=[padded_contexts, padded_questions],\n\u001b[1;32m---> 14\u001b[1;33m                                 y=[y_answer_start, y_answer_end], batch_size=batch_size, validation_split=0.1)\n\u001b[0m\u001b[0;32m     15\u001b[0m \u001b[1;33m\u001b[0m\u001b[0m\n\u001b[0;32m     16\u001b[0m         \u001b[0mhistory_objects\u001b[0m\u001b[1;33m.\u001b[0m\u001b[0mappend\u001b[0m\u001b[1;33m(\u001b[0m\u001b[0mhistory\u001b[0m\u001b[1;33m)\u001b[0m\u001b[1;33m\u001b[0m\u001b[0m\n",
      "\u001b[1;32m~\\Anaconda3_\\lib\\site-packages\\keras\\engine\\training.py\u001b[0m in \u001b[0;36mfit\u001b[1;34m(self, x, y, batch_size, epochs, verbose, callbacks, validation_split, validation_data, shuffle, class_weight, sample_weight, initial_epoch, steps_per_epoch, validation_steps, **kwargs)\u001b[0m\n\u001b[0;32m   1040\u001b[0m                                         \u001b[0minitial_epoch\u001b[0m\u001b[1;33m=\u001b[0m\u001b[0minitial_epoch\u001b[0m\u001b[1;33m,\u001b[0m\u001b[1;33m\u001b[0m\u001b[0m\n\u001b[0;32m   1041\u001b[0m                                         \u001b[0msteps_per_epoch\u001b[0m\u001b[1;33m=\u001b[0m\u001b[0msteps_per_epoch\u001b[0m\u001b[1;33m,\u001b[0m\u001b[1;33m\u001b[0m\u001b[0m\n\u001b[1;32m-> 1042\u001b[1;33m                                         validation_steps=validation_steps)\n\u001b[0m\u001b[0;32m   1043\u001b[0m \u001b[1;33m\u001b[0m\u001b[0m\n\u001b[0;32m   1044\u001b[0m     def evaluate(self, x=None, y=None,\n",
      "\u001b[1;32m~\\Anaconda3_\\lib\\site-packages\\keras\\engine\\training_arrays.py\u001b[0m in \u001b[0;36mfit_loop\u001b[1;34m(model, f, ins, out_labels, batch_size, epochs, verbose, callbacks, val_f, val_ins, shuffle, callback_metrics, initial_epoch, steps_per_epoch, validation_steps)\u001b[0m\n\u001b[0;32m    197\u001b[0m                     \u001b[0mins_batch\u001b[0m\u001b[1;33m[\u001b[0m\u001b[0mi\u001b[0m\u001b[1;33m]\u001b[0m \u001b[1;33m=\u001b[0m \u001b[0mins_batch\u001b[0m\u001b[1;33m[\u001b[0m\u001b[0mi\u001b[0m\u001b[1;33m]\u001b[0m\u001b[1;33m.\u001b[0m\u001b[0mtoarray\u001b[0m\u001b[1;33m(\u001b[0m\u001b[1;33m)\u001b[0m\u001b[1;33m\u001b[0m\u001b[0m\n\u001b[0;32m    198\u001b[0m \u001b[1;33m\u001b[0m\u001b[0m\n\u001b[1;32m--> 199\u001b[1;33m                 \u001b[0mouts\u001b[0m \u001b[1;33m=\u001b[0m \u001b[0mf\u001b[0m\u001b[1;33m(\u001b[0m\u001b[0mins_batch\u001b[0m\u001b[1;33m)\u001b[0m\u001b[1;33m\u001b[0m\u001b[0m\n\u001b[0m\u001b[0;32m    200\u001b[0m                 \u001b[1;32mif\u001b[0m \u001b[1;32mnot\u001b[0m \u001b[0misinstance\u001b[0m\u001b[1;33m(\u001b[0m\u001b[0mouts\u001b[0m\u001b[1;33m,\u001b[0m \u001b[0mlist\u001b[0m\u001b[1;33m)\u001b[0m\u001b[1;33m:\u001b[0m\u001b[1;33m\u001b[0m\u001b[0m\n\u001b[0;32m    201\u001b[0m                     \u001b[0mouts\u001b[0m \u001b[1;33m=\u001b[0m \u001b[1;33m[\u001b[0m\u001b[0mouts\u001b[0m\u001b[1;33m]\u001b[0m\u001b[1;33m\u001b[0m\u001b[0m\n",
      "\u001b[1;32m~\\Anaconda3_\\lib\\site-packages\\keras\\backend\\tensorflow_backend.py\u001b[0m in \u001b[0;36m__call__\u001b[1;34m(self, inputs)\u001b[0m\n\u001b[0;32m   2659\u001b[0m                 \u001b[1;32mreturn\u001b[0m \u001b[0mself\u001b[0m\u001b[1;33m.\u001b[0m\u001b[0m_legacy_call\u001b[0m\u001b[1;33m(\u001b[0m\u001b[0minputs\u001b[0m\u001b[1;33m)\u001b[0m\u001b[1;33m\u001b[0m\u001b[0m\n\u001b[0;32m   2660\u001b[0m \u001b[1;33m\u001b[0m\u001b[0m\n\u001b[1;32m-> 2661\u001b[1;33m             \u001b[1;32mreturn\u001b[0m \u001b[0mself\u001b[0m\u001b[1;33m.\u001b[0m\u001b[0m_call\u001b[0m\u001b[1;33m(\u001b[0m\u001b[0minputs\u001b[0m\u001b[1;33m)\u001b[0m\u001b[1;33m\u001b[0m\u001b[0m\n\u001b[0m\u001b[0;32m   2662\u001b[0m         \u001b[1;32melse\u001b[0m\u001b[1;33m:\u001b[0m\u001b[1;33m\u001b[0m\u001b[0m\n\u001b[0;32m   2663\u001b[0m             \u001b[1;32mif\u001b[0m \u001b[0mpy_any\u001b[0m\u001b[1;33m(\u001b[0m\u001b[0mis_tensor\u001b[0m\u001b[1;33m(\u001b[0m\u001b[0mx\u001b[0m\u001b[1;33m)\u001b[0m \u001b[1;32mfor\u001b[0m \u001b[0mx\u001b[0m \u001b[1;32min\u001b[0m \u001b[0minputs\u001b[0m\u001b[1;33m)\u001b[0m\u001b[1;33m:\u001b[0m\u001b[1;33m\u001b[0m\u001b[0m\n",
      "\u001b[1;32m~\\Anaconda3_\\lib\\site-packages\\keras\\backend\\tensorflow_backend.py\u001b[0m in \u001b[0;36m_call\u001b[1;34m(self, inputs)\u001b[0m\n\u001b[0;32m   2629\u001b[0m                                 \u001b[0msymbol_vals\u001b[0m\u001b[1;33m,\u001b[0m\u001b[1;33m\u001b[0m\u001b[0m\n\u001b[0;32m   2630\u001b[0m                                 session)\n\u001b[1;32m-> 2631\u001b[1;33m         \u001b[0mfetched\u001b[0m \u001b[1;33m=\u001b[0m \u001b[0mself\u001b[0m\u001b[1;33m.\u001b[0m\u001b[0m_callable_fn\u001b[0m\u001b[1;33m(\u001b[0m\u001b[1;33m*\u001b[0m\u001b[0marray_vals\u001b[0m\u001b[1;33m)\u001b[0m\u001b[1;33m\u001b[0m\u001b[0m\n\u001b[0m\u001b[0;32m   2632\u001b[0m         \u001b[1;32mreturn\u001b[0m \u001b[0mfetched\u001b[0m\u001b[1;33m[\u001b[0m\u001b[1;33m:\u001b[0m\u001b[0mlen\u001b[0m\u001b[1;33m(\u001b[0m\u001b[0mself\u001b[0m\u001b[1;33m.\u001b[0m\u001b[0moutputs\u001b[0m\u001b[1;33m)\u001b[0m\u001b[1;33m]\u001b[0m\u001b[1;33m\u001b[0m\u001b[0m\n\u001b[0;32m   2633\u001b[0m \u001b[1;33m\u001b[0m\u001b[0m\n",
      "\u001b[1;32m~\\Anaconda3_\\lib\\site-packages\\tensorflow\\python\\client\\session.py\u001b[0m in \u001b[0;36m__call__\u001b[1;34m(self, *args)\u001b[0m\n\u001b[0;32m   1452\u001b[0m         \u001b[1;32melse\u001b[0m\u001b[1;33m:\u001b[0m\u001b[1;33m\u001b[0m\u001b[0m\n\u001b[0;32m   1453\u001b[0m           return tf_session.TF_DeprecatedSessionRunCallable(\n\u001b[1;32m-> 1454\u001b[1;33m               self._session._session, self._handle, args, status, None)\n\u001b[0m\u001b[0;32m   1455\u001b[0m \u001b[1;33m\u001b[0m\u001b[0m\n\u001b[0;32m   1456\u001b[0m     \u001b[1;32mdef\u001b[0m \u001b[0m__del__\u001b[0m\u001b[1;33m(\u001b[0m\u001b[0mself\u001b[0m\u001b[1;33m)\u001b[0m\u001b[1;33m:\u001b[0m\u001b[1;33m\u001b[0m\u001b[0m\n",
      "\u001b[1;32m~\\Anaconda3_\\lib\\site-packages\\tensorflow\\python\\framework\\errors_impl.py\u001b[0m in \u001b[0;36m__exit__\u001b[1;34m(self, type_arg, value_arg, traceback_arg)\u001b[0m\n\u001b[0;32m    517\u001b[0m             \u001b[1;32mNone\u001b[0m\u001b[1;33m,\u001b[0m \u001b[1;32mNone\u001b[0m\u001b[1;33m,\u001b[0m\u001b[1;33m\u001b[0m\u001b[0m\n\u001b[0;32m    518\u001b[0m             \u001b[0mcompat\u001b[0m\u001b[1;33m.\u001b[0m\u001b[0mas_text\u001b[0m\u001b[1;33m(\u001b[0m\u001b[0mc_api\u001b[0m\u001b[1;33m.\u001b[0m\u001b[0mTF_Message\u001b[0m\u001b[1;33m(\u001b[0m\u001b[0mself\u001b[0m\u001b[1;33m.\u001b[0m\u001b[0mstatus\u001b[0m\u001b[1;33m.\u001b[0m\u001b[0mstatus\u001b[0m\u001b[1;33m)\u001b[0m\u001b[1;33m)\u001b[0m\u001b[1;33m,\u001b[0m\u001b[1;33m\u001b[0m\u001b[0m\n\u001b[1;32m--> 519\u001b[1;33m             c_api.TF_GetCode(self.status.status))\n\u001b[0m\u001b[0;32m    520\u001b[0m     \u001b[1;31m# Delete the underlying status object from memory otherwise it stays alive\u001b[0m\u001b[1;33m\u001b[0m\u001b[1;33m\u001b[0m\u001b[0m\n\u001b[0;32m    521\u001b[0m     \u001b[1;31m# as there is a reference to status from this from the traceback due to\u001b[0m\u001b[1;33m\u001b[0m\u001b[1;33m\u001b[0m\u001b[0m\n",
      "\u001b[1;31mInvalidArgumentError\u001b[0m: Incompatible shapes: [38] vs. [34]\n\t [[Node: training/Adam/gradients/loss/EndIdxProbs_loss/mul_1_grad/BroadcastGradientArgs = BroadcastGradientArgs[T=DT_INT32, _class=[\"loc:@training/Adam/gradients/loss/EndIdxProbs_loss/mul_1_grad/Reshape\"], _device=\"/job:localhost/replica:0/task:0/device:CPU:0\"](training/Adam/gradients/loss/EndIdxProbs_loss/mul_1_grad/Shape, training/Adam/gradients/loss/EndIdxProbs_loss/mul_1_grad/Shape_1)]]"
     ]
    }
   ],
   "source": [
    "history_objects = []\n",
    "for epoch in range(num_of_epochs):\n",
    "    for batch_idx in range(num_of_batches):\n",
    "        \n",
    "        start = batch_idx*batch_size\n",
    "        end = (batch_idx+1)*batch_size\n",
    "    \n",
    "        y_answer_start, y_answer_end = (get_answer_span(answer_start[start:end], answer_end[start:end]))\n",
    "        padded_contexts = get_padded_inputs(tokenized_contexts[start:end], string_type=\"context\")\n",
    "        padded_questions = get_padded_inputs(tokenized_questions[start:end], string_type=\"question\")\n",
    "\n",
    "        history = DMN_model.fit(x=[padded_contexts, padded_questions],\n",
    "                                y=[y_answer_start, y_answer_end], batch_size=batch_size, validation_split=0.1)\n",
    "        \n",
    "        history_objects.append(history)\n",
    "        batch_iteration+=1\n",
    "\n",
    "    batch_iteration = 0 # Reset batch iteration counter for each new epoch"
   ]
  },
  {
   "cell_type": "markdown",
   "metadata": {},
   "source": [
    "### Testing the Network"
   ]
  },
  {
   "cell_type": "code",
   "execution_count": null,
   "metadata": {
    "collapsed": true
   },
   "outputs": [],
   "source": [
    "\"\"\"Notes before testing:\n",
    "    Have a careful look at the 'get_facts' method to get an idea of how training and testing\n",
    "    are different. We must do 3 things:\n",
    "    1. Assign value to test_send_end_indices\n",
    "    2. Set 'training' to False\n",
    "    3. Set 'batch_size' parameter in .predict() to be the number of smaples we are testing on. \n",
    "    4. Only do 1 test. Otherwise modify 'get_facts'\"\"\"\n",
    "\n",
    "test_batch_size=20\n",
    "training=False\n",
    "\n",
    "test_contexts = None\n",
    "test_sent_end_indeces = None\n",
    "context_inputs = None\n",
    "question_inputs = None\n",
    "\n",
    "test_outputs = DMN_model.predict([context_inputs, question_inputs], batch_size=test_batch_size)"
   ]
  },
  {
   "cell_type": "code",
   "execution_count": null,
   "metadata": {
    "collapsed": true
   },
   "outputs": [],
   "source": [
    "\"\"\"def get_facts_old(facts_output):\n",
    "     Extracts the timesteps (facts) for each sample, then pads each tensor. Returns a 3D tensor.\n",
    "        Input: facts_output, 3D tensor of all the timesteps/samples. Shape=(num samples, max # words, 50)\n",
    "        Output: facts_tensor_list, list of facts for each sample. Each 2D tensor has different shape. \n",
    "    # The difficulty in this methods' definition is the fact that it is envoked within the\n",
    "    # Dynamic Memory Module and represented as a layer via a 'Lambda Layer' in keras.\n",
    "    # This has multiple complications with regards to how it has to be defined in a\n",
    "    # supervised batch-training infrastrucure. Thus perhaps the awkward iterations and dtypes.\n",
    "    print(\"Here start\", facts_output.shape)\n",
    "    facts_tensor_list = []\n",
    "    start_idx = batch_iteration*batch_size\n",
    "    \n",
    "    if start_idx + batch_size <= num_of_samples:\n",
    "        iter_values = batch_size\n",
    "    else: \n",
    "        iter_values = num_of_samples - start_idx\n",
    "    \n",
    "    for sample_index in range(iter_values): #iterate over each sample in the batch\n",
    "        facts = tf.nn.embedding_lookup(facts_output[sample_index],\n",
    "                                       ids=sent_end_indeces[start_idx+sample_index][0])\n",
    "        facts_tensor_list.append(facts)\n",
    "    \n",
    "    max_num_facts = np.max([facts_tensor.shape[0] for facts_tensor in facts_tensor_list]) #\n",
    "    \n",
    "    # Padding the tensors\n",
    "    for idx in range(len(facts_tensor_list)):\n",
    "        numpy_pad = np.zeros(shape=(max_num_facts-facts_tensor_list[idx].shape[0], hidden_units))\n",
    "        pad = tf.Variable(numpy_pad, dtype=tf.float32)\n",
    "        facts_tensor_list[idx] = K.concatenate([facts_tensor_list[idx], pad], axis=0)\n",
    "   \n",
    "    return tf.stack(facts_tensor_list) # shape (num samples, max_num_facts, hidden_units)\n",
    "\"\"\""
   ]
  }
 ],
 "metadata": {
  "kernelspec": {
   "display_name": "Python 3",
   "language": "python",
   "name": "python3"
  },
  "language_info": {
   "codemirror_mode": {
    "name": "ipython",
    "version": 3
   },
   "file_extension": ".py",
   "mimetype": "text/x-python",
   "name": "python",
   "nbconvert_exporter": "python",
   "pygments_lexer": "ipython3",
   "version": "3.6.3"
  }
 },
 "nbformat": 4,
 "nbformat_minor": 2
}
