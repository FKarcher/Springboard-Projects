{
 "cells": [
  {
   "cell_type": "markdown",
   "metadata": {},
   "source": [
    "# What is the True Normal Human Body Temperature? \n",
    "\n",
    "#### Background\n",
    "\n",
    "The mean normal body temperature was held to be 37$^{\\circ}$C or 98.6$^{\\circ}$F for more than 120 years since it was first conceptualized and reported by Carl Wunderlich in a famous 1868 book. But, is this value statistically correct?"
   ]
  },
  {
   "cell_type": "markdown",
   "metadata": {},
   "source": [
    "<h3>Exercises</h3>\n",
    "\n",
    "<p>In this exercise, you will analyze a dataset of human body temperatures and employ the concepts of hypothesis testing, confidence intervals, and statistical significance.</p>\n",
    "\n",
    "<p>Answer the following questions <b>in this notebook below and submit to your Github account</b>.</p> \n",
    "\n",
    "<ol>\n",
    "<li>  Is the distribution of body temperatures normal? \n",
    "    <ul>\n",
    "    <li> Although this is not a requirement for CLT to hold (read CLT carefully), it gives us some peace of mind that the population may also be normally distributed if we assume that this sample is representative of the population.\n",
    "    </ul>\n",
    "<li>  Is the sample size large? Are the observations independent?\n",
    "    <ul>\n",
    "    <li> Remember that this is a condition for the CLT, and hence the statistical tests we are using, to apply.\n",
    "    </ul>\n",
    "<li>  Is the true population mean really 98.6 degrees F?\n",
    "    <ul>\n",
    "    <li> Would you use a one-sample or two-sample test? Why?\n",
    "    <li> In this situation, is it appropriate to use the $t$ or $z$ statistic? \n",
    "    <li> Now try using the other test. How is the result be different? Why?\n",
    "    </ul>\n",
    "<li>  Draw a small sample of size 10 from the data and repeat both tests. \n",
    "    <ul>\n",
    "    <li> Which one is the correct one to use? \n",
    "    <li> What do you notice? What does this tell you about the difference in application of the $t$ and $z$ statistic?\n",
    "    </ul>\n",
    "<li>  At what temperature should we consider someone's temperature to be \"abnormal\"?\n",
    "    <ul>\n",
    "    <li> Start by computing the margin of error and confidence interval.\n",
    "    </ul>\n",
    "<li>  Is there a significant difference between males and females in normal temperature?\n",
    "    <ul>\n",
    "    <li> What test did you use and why?\n",
    "    <li> Write a story with your conclusion in the context of the original problem.\n",
    "    </ul>\n",
    "</ol>\n",
    "\n",
    "You can include written notes in notebook cells using Markdown: \n",
    "   - In the control panel at the top, choose Cell > Cell Type > Markdown\n",
    "   - Markdown syntax: http://nestacms.com/docs/creating-content/markdown-cheat-sheet\n",
    "\n",
    "#### Resources\n",
    "\n",
    "+ Information and data sources: http://www.amstat.org/publications/jse/datasets/normtemp.txt, http://www.amstat.org/publications/jse/jse_data_archive.htm\n",
    "+ Markdown syntax: http://nestacms.com/docs/creating-content/markdown-cheat-sheet\n",
    "\n",
    "****"
   ]
  },
  {
   "cell_type": "code",
   "execution_count": 1,
   "metadata": {
    "collapsed": true
   },
   "outputs": [],
   "source": [
    "import pandas as pd\n",
    "\n",
    "df = pd.read_csv('data/human_body_temperature.csv')"
   ]
  },
  {
   "cell_type": "code",
   "execution_count": 2,
   "metadata": {
    "collapsed": true
   },
   "outputs": [],
   "source": [
    "# Your work here."
   ]
  },
  {
   "cell_type": "markdown",
   "metadata": {},
   "source": [
    " ### 1. Is the distribution of body temperatures normal?"
   ]
  },
  {
   "cell_type": "code",
   "execution_count": 3,
   "metadata": {},
   "outputs": [],
   "source": [
    "# Importing necessary modules\n",
    "import matplotlib.pyplot as plt\n",
    "import numpy as np\n",
    "import seaborn as sns\n",
    "#Giving a nicer look\n",
    "sns.set()\n",
    "\n",
    "#Generating arrays for the ECDF (graphing original data)\n",
    "ecdf_x=np.sort(df[\"temperature\"])\n",
    "ecdf_y=np.arange(1, len(ecdf_x)+1)/len(ecdf_x)\n"
   ]
  },
  {
   "cell_type": "markdown",
   "metadata": {},
   "source": [
    "After importing the necessary modules I generated Numpy arrays to be able to plot the Empirical CDF (CDF of the original data) for the purpose of comparing the validity of a normal distribution as a model for the data. X axis values (*ecdf_x*) are simply an ancending list of temperature values. This sorting is necessary as otherwise the graph wouldn't make sense. The Y values (*ecdf_y*) are normalised incremental 'probability values' to simulate the increments on the CDF graph."
   ]
  },
  {
   "cell_type": "code",
   "execution_count": 4,
   "metadata": {
    "collapsed": true
   },
   "outputs": [],
   "source": [
    "#Plotting the ECDF with an appropriate label and labelling the axes.\n",
    "plt.plot(ecdf_x, ecdf_y, marker=\".\", linestyle=\"none\", color=\"blue\", label=\"Empirical CDF\")\n",
    "plt.xlabel(\"Temperature\")\n",
    "plt.ylabel(\"ECDF\")\n",
    "\n",
    "#Generating a sorted array of normally distributed values and the accompanying y axis values.\n",
    "normal_samples=np.sort(np.random.normal(np.mean(df[\"temperature\"]),np.std(df[\"temperature\"]) , size=10000))\n",
    "cdf_y=np.arange(1, len(normal_samples)+1)/len(normal_samples)"
   ]
  },
  {
   "cell_type": "markdown",
   "metadata": {},
   "source": [
    "The arrays are plotted and the graph is labelled as \"Empirical CDF\". I've chosen to plot dots and not the standard option for lines due to the moderately small amount of data. It wouldn't make sense to draw lines between distinct data points as no data is present there. The axes are labelled appropriately. "
   ]
  },
  {
   "cell_type": "markdown",
   "metadata": {},
   "source": [
    "To check the validity of approximating the actual data as 'normally distributed' I generated a numpy array *normal_samples* (an analogue of *ecdf_x*) which is a sorted array of values that would be obtained by a normal distribution with a mean and standard deviation corresponding to the sample mean and sample standard deviation respectively. The mean is an appropriate optimal parameter due to the small spread in data (small standard deviation of 0.7). The size of *normal_samples* is large to generate a smooth curve and reduce variability of the Theoretical CDF generated during each run. The size of 10,000 is arbibrary, but a nice tradeoff between an array too large that takes up alot of memory and one too small that varies alot from run to run. *cdf_y* is the Y axis analogue of *ecdf_y* for the simulated dataset."
   ]
  },
  {
   "cell_type": "code",
   "execution_count": 5,
   "metadata": {},
   "outputs": [
    {
     "data": {
      "image/png": "[encoded data removed]",
      "text/plain": [
       "<matplotlib.figure.Figure at 0x23c20f38f60>"
      ]
     },
     "metadata": {},
     "output_type": "display_data"
    }
   ],
   "source": [
    "#Plotting the Theoretical CDF of the normally distributed data on top of the ECDF.\n",
    "plt.plot(normal_samples, cdf_y, color=\"red\", label=\"Theoretical CDF\")\n",
    "plt.legend(loc=\"upper left\")\n",
    "\n",
    "#Showing the Empirical and Theoretical CDFs on one graph.\n",
    "plt.show()"
   ]
  },
  {
   "cell_type": "markdown",
   "metadata": {},
   "source": [
    "The Theoretical CDF is plotted, the legend is added and the graph is shown. From the graph we can see that there is good agreement between the Empirical CDF and the Theoretical CDF (of a Normal Distribution) leading to the conclusion that the sample data is modelled well by a Normal Distribution with mean and standard deviation of the distribution corresponding to the sample mean and standard deviation respectively (as mentioned above). So the answer is yes, **the distribution of body temperatures is normal**."
   ]
  },
  {
   "cell_type": "markdown",
   "metadata": {},
   "source": [
    "### 2. Is the sample size large? Are the observations independent?"
   ]
  },
  {
   "cell_type": "markdown",
   "metadata": {},
   "source": [
    "**The original observations are independant** as, by definition, each observation (each row) does not provide any information about any other observation. However, the *Data were constructed to match as closely as possible the histograms and summary statistics presented in that article.* hence this dataset is not a random sample since it was chosen to be representative of the articles' findings (as expressed in the quote). Though this poses no problem for the validity of this data as a condition of CLT or else. \n",
    "\n",
    "It's hard to answer the question about the size of the sample. If a sample size is considered large if it represents a noticeable proportion of the entire population then no, this sample is not large as the population size is obviously much much greater. If we consider the statistical n=30 benchmark for a large sample size then indeed this sample is large. Given that this exercise exists and we will proceed with it, the question seems rhetorical (the answer being yes to both questions) so I will conclude that **the sample size is large**, but with no convincing justification for why."
   ]
  },
  {
   "cell_type": "markdown",
   "metadata": {},
   "source": [
    "### 3. Is the true population mean really 98.6 degrees F?"
   ]
  },
  {
   "cell_type": "markdown",
   "metadata": {},
   "source": [
    "* Would you use a one-sample or two-sample test? Why?\n",
    "     * There is only one-sample present so a two-sample test is not possible, hence a one-sample test.\n",
    "* In this situation, is it appropriate to use the  t  or  z  statistic?\n",
    "     * t statistic as the population standard deviation is not known and we are trying to test a null hypothesis (\"The true population mean is 98.6 degrees F\".\n",
    "     \n",
    "The Null Hypotheses is posed as follows: *The true population mean is 98.6 degrees F. Equivalently, there is no difference between the sample mean and the population mean.* t statistic is defined as the difference in the population mean and the sample mean (population mean - sample mean)."
   ]
  },
  {
   "cell_type": "code",
   "execution_count": 6,
   "metadata": {
    "collapsed": true
   },
   "outputs": [],
   "source": [
    "#Actual sample mean\n",
    "sample_mean=np.mean(df[\"temperature\"])\n",
    "proposed_mean=98.6\n",
    "#Observed t value (difference in proposed population mean and actual sample mean)\n",
    "actual_t_value=proposed_mean - sample_mean"
   ]
  },
  {
   "cell_type": "markdown",
   "metadata": {},
   "source": [
    "The sample mean of the original sample is calculated as *sample_mean*, the proposed population mean is stored as *proposed_mean* and the observed t value is calculated and stored as *actual_t_value*."
   ]
  },
  {
   "cell_type": "code",
   "execution_count": 7,
   "metadata": {},
   "outputs": [],
   "source": [
    "#Assuming null hypothesis is true, sample mean should be 98.6, so we adjust the values.\n",
    "df[\"temperature adjusted\"]=df[\"temperature\"] + proposed_mean - sample_mean\n",
    "\n",
    "#Generating array to hold t values generated from bootsrap samples (bootstrap replicates)\n",
    "t_values=np.empty(10000)"
   ]
  },
  {
   "cell_type": "markdown",
   "metadata": {},
   "source": [
    "Assuming the null hypothesis to be true, there should be no difference in the proposed population mean (98.6) and the sample mean so the values in the column are adjusted to achieve a sample mean of 98.6. The adjusted column (*temperature adjusted*) is created and stored in the dataframe *df*. An empty numpy array *t_values* is initialized to hold 10,000 t values (we are going to generate 10,000 bootstrap replicates). I created a new column for the sake of differentiating between the adjusted values and the original data, this also means I won't need to reconvert back if I need to use the original *temperature* column."
   ]
  },
  {
   "cell_type": "code",
   "execution_count": 8,
   "metadata": {},
   "outputs": [],
   "source": [
    "#Looping 10,000 times\n",
    "for i in range(10000):\n",
    "   # to generate bootstrap replicates and store them in the array\n",
    "   simulated_mean=np.mean(np.random.choice(df[\"temperature adjusted\"], len(df[\"temperature adjusted\"])))\n",
    "   t_values[i]=proposed_mean - simulated_mean\n",
    "\n",
    "#Calculating the p value   \n",
    "p_value=np.sum(t_values>actual_t_value)/len(t_values)"
   ]
  },
  {
   "cell_type": "markdown",
   "metadata": {},
   "source": [
    "We loop 10,000 times to generates 10,000 t values. First we simulate a resampling of the population by choosing values without replacement from the *temperature adjusted* column (as we are working under the null hypothesis). This sample is of the same length as the original sample (it's a bootstrap sample). We calculate the mean of this new sample (*simulated_mean*) and after calculating the bootstrap replicate (summary statistic calculated from a resampled array) we add it to our *t_values* array. The p value is defined as the proportion of t values calculated under the null hypothesis that are at least as extreme as the observed t value.\n",
    "\n",
    "A large p value indicates that our observed t value is a very probable outcome given the null hypothesis and hence the null hypothesis is most likely true. A very small p value indicates that there are a very small proportion of possible outcomes (t values) that are as extreme or more extreme than the actual outcome (t value) that we observed and hence is most likely false. \n",
    "\n"
   ]
  },
  {
   "cell_type": "code",
   "execution_count": 9,
   "metadata": {},
   "outputs": [
    {
     "name": "stdout",
     "output_type": "stream",
     "text": [
      "Actual t value: 0.350769 p value: 0.000000\n"
     ]
    },
    {
     "data": {
      "image/png": "[encoded data removed]",
      "text/plain": [
       "<matplotlib.figure.Figure at 0x23c20ea2e80>"
      ]
     },
     "metadata": {},
     "output_type": "display_data"
    }
   ],
   "source": [
    "print(\"Actual t value: %f, p value: %f\" % (actual_t_value, p_value))\n",
    "plt.hist(t_values, bins=20, normed=True, label=\"Simulated t values\")\n",
    "plt.xlabel(\"t value\")\n",
    "plt.ylabel(\"Probability\")\n",
    "plt.axvline(x=actual_t_value, color=\"red\", label=\"Actual t value\")\n",
    "plt.legend(loc=\"upper left\")\n",
    "plt.show()"
   ]
  },
  {
   "cell_type": "markdown",
   "metadata": {},
   "source": [
    "I printed the p value and the observed t value for reference and plotted the distribution of t values as a histogram. I chose a histogram because there were too many data points to visualise using a swarm plot and given the moderately small spread in data, the histogram highlights the important features (range and distribution of simulated t values). I also added a vertical line to show the observed t value (*actual_t_value*) to illustrate graphically (and further emphasize) that the p value is very very small (mathematically speaking 0 in most runs I've done).\n",
    "\n",
    "Given that the p value is very very small (even though it is 0.0 after most runs, statistically speaking after enough samples there will be a value more extreme than the observed t value resulting in a non-zero p value) we conclude that the null hypothesis is most likely false and the alternate hypothesis is probably true. Hence, in a manner of proof by contradiction, it is found that **the true population mean is not 98.6**. "
   ]
  },
  {
   "cell_type": "markdown",
   "metadata": {},
   "source": []
  },
  {
   "cell_type": "code",
   "execution_count": null,
   "metadata": {
    "collapsed": true
   },
   "outputs": [],
   "source": []
  }
 ],
 "metadata": {
  "kernelspec": {
   "display_name": "Python 3",
   "language": "python",
   "name": "python3"
  },
  "language_info": {
   "codemirror_mode": {
    "name": "ipython",
    "version": 3
   },
   "file_extension": ".py",
   "mimetype": "text/x-python",
   "name": "python",
   "nbconvert_exporter": "python",
   "pygments_lexer": "ipython3",
   "version": "3.6.3"
  }
 },
 "nbformat": 4,
 "nbformat_minor": 1
}
